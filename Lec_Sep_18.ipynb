{
 "cells": [
  {
   "cell_type": "markdown",
   "metadata": {},
   "source": [
    "## Review"
   ]
  },
  {
   "cell_type": "code",
   "execution_count": 1,
   "metadata": {},
   "outputs": [
    {
     "data": {
      "text/plain": [
       "'hello '"
      ]
     },
     "execution_count": 1,
     "metadata": {},
     "output_type": "execute_result"
    }
   ],
   "source": [
    "i:int = 0\n",
    "j: int = 5\n",
    "\"hello world\"[i:j+1]"
   ]
  },
  {
   "cell_type": "markdown",
   "metadata": {},
   "source": [
    "* How to check if a string has only letters?\n",
    "* How to check if a string has only numbers?\n",
    "* How to check if a string has only letters and numbers?\n",
    "* How to convert all letters into lowercase?\n",
    "* How to get `i`th string of a string?\n",
    "* How to get the sub-string `i:j`?"
   ]
  },
  {
   "cell_type": "code",
   "execution_count": 2,
   "metadata": {},
   "outputs": [
    {
     "data": {
      "text/plain": [
       "'g'"
      ]
     },
     "execution_count": 2,
     "metadata": {},
     "output_type": "execute_result"
    }
   ],
   "source": [
    "\"some_string\"[-1]"
   ]
  },
  {
   "cell_type": "code",
   "execution_count": 5,
   "metadata": {},
   "outputs": [
    {
     "data": {
      "text/plain": [
       "'dlrow olleh'"
      ]
     },
     "execution_count": 5,
     "metadata": {},
     "output_type": "execute_result"
    }
   ],
   "source": [
    "some_string: str = \"hello world\"\n",
    "# some_string[-1:-4:-1]\n",
    "some_string[::-1]"
   ]
  },
  {
   "cell_type": "markdown",
   "metadata": {},
   "source": [
    "Consider the case that we are working on our chatbot and we are asking the user for a word. However, the user types in `hell0o`. How can we tell the user that the 4th character is a number and not a string?\n"
   ]
  },
  {
   "cell_type": "code",
   "execution_count": 6,
   "metadata": {},
   "outputs": [
    {
     "data": {
      "text/plain": [
       "'0'"
      ]
     },
     "execution_count": 6,
     "metadata": {},
     "output_type": "execute_result"
    }
   ],
   "source": [
    "some_string: str = \"hel10o\"\n",
    "\n",
    "some_string[4]\n",
    "\n",
    "some_string[0].isalpha()\n",
    "some_string[1].isalpha()\n",
    "some_string[2].isalpha()\n",
    "some_string[3].isalpha()\n",
    "some_string[4].isalpha()\n",
    "some_string[5].isalpha()\n",
    "\n",
    "\n",
    "length_of_string: int = len(some_string)\n",
    "\n"
   ]
  },
  {
   "cell_type": "code",
   "execution_count": 8,
   "metadata": {},
   "outputs": [
    {
     "ename": "SyntaxError",
     "evalue": "invalid syntax (4175772471.py, line 1)",
     "output_type": "error",
     "traceback": [
      "\u001b[0;36m  Cell \u001b[0;32mIn[8], line 1\u001b[0;36m\u001b[0m\n\u001b[0;31m    some_string[].isalpha()\u001b[0m\n\u001b[0m                ^\u001b[0m\n\u001b[0;31mSyntaxError\u001b[0m\u001b[0;31m:\u001b[0m invalid syntax\n"
     ]
    }
   ],
   "source": [
    "some_string.isalpha()\n",
    "some_string[:].isalpha()"
   ]
  },
  {
   "cell_type": "code",
   "execution_count": 10,
   "metadata": {},
   "outputs": [
    {
     "name": "stdout",
     "output_type": "stream",
     "text": [
      "0 is not a letter.!\n"
     ]
    }
   ],
   "source": [
    "i = 0\n",
    "some_string[i].isalpha()\n",
    "i += 1\n",
    "\n",
    "length_of_string: int = len(some_string)\n",
    "\n",
    "for each_character in some_string:\n",
    "    if not each_character.isalpha():\n",
    "        print(f\"{each_character} is not a letter.!\")"
   ]
  },
  {
   "cell_type": "code",
   "execution_count": 9,
   "metadata": {},
   "outputs": [
    {
     "name": "stdout",
     "output_type": "stream",
     "text": [
      "h\n",
      "e\n",
      "l\n",
      "l\n",
      "0\n",
      "o\n"
     ]
    }
   ],
   "source": [
    "# \"hell0o\"\n",
    "for each_character in some_string:\n",
    "    print(each_character)"
   ]
  },
  {
   "cell_type": "code",
   "execution_count": 17,
   "metadata": {},
   "outputs": [
    {
     "name": "stdout",
     "output_type": "stream",
     "text": [
      "o\n"
     ]
    }
   ],
   "source": [
    "print(each_character)"
   ]
  },
  {
   "cell_type": "markdown",
   "metadata": {},
   "source": [
    "## Doing the same thing over and over"
   ]
  },
  {
   "cell_type": "markdown",
   "metadata": {},
   "source": [
    "The syntax of the `for` loop. \n",
    "\n",
    "```python\n",
    "for each_item in iterable:\n",
    "    do_something\n",
    "```\n"
   ]
  },
  {
   "cell_type": "code",
   "execution_count": 12,
   "metadata": {},
   "outputs": [
    {
     "data": {
      "text/plain": [
       "6"
      ]
     },
     "execution_count": 12,
     "metadata": {},
     "output_type": "execute_result"
    }
   ],
   "source": [
    "len(some_string)"
   ]
  },
  {
   "cell_type": "code",
   "execution_count": 18,
   "metadata": {},
   "outputs": [
    {
     "name": "stdout",
     "output_type": "stream",
     "text": [
      "0\n",
      "1\n",
      "2\n",
      "3\n",
      "4\n",
      "0 is not a letter.!\n",
      "5\n"
     ]
    }
   ],
   "source": [
    "\n",
    "for i in range(0, len(some_string)):\n",
    "    print(i)\n",
    "    if not some_string[i].isalpha():\n",
    "        # print(f\"{each_character} is  not a letter\")\n",
    "        print(f\"{some_string[i]} is not a letter.!\")"
   ]
  },
  {
   "cell_type": "markdown",
   "metadata": {},
   "source": [
    "## Storing things\n",
    "\n",
    "Now consider the scenario where we are asking users for longer inputs and we want to notify them if some of the word they typed has numbers in them."
   ]
  },
  {
   "cell_type": "code",
   "execution_count": 19,
   "metadata": {},
   "outputs": [
    {
     "data": {
      "text/plain": [
       "['I', 'like', 'to', 'h1ke']"
      ]
     },
     "execution_count": 19,
     "metadata": {},
     "output_type": "execute_result"
    }
   ],
   "source": [
    "user_response: str = \"I like to h1ke\"\n",
    "user_response.split()"
   ]
  },
  {
   "cell_type": "code",
   "execution_count": 21,
   "metadata": {},
   "outputs": [
    {
     "data": {
      "text/plain": [
       "['pizza', 'pasta', 'calzone', 'tacos']"
      ]
     },
     "execution_count": 21,
     "metadata": {},
     "output_type": "execute_result"
    }
   ],
   "source": [
    "favorite_food: list[str] = [\"pizza\", \"pasta\", \"calzone\", \"tacos\"]\n",
    "favorite_food"
   ]
  },
  {
   "cell_type": "code",
   "execution_count": 22,
   "metadata": {},
   "outputs": [
    {
     "name": "stdout",
     "output_type": "stream",
     "text": [
      "pizza\n",
      "pasta\n",
      "calzone\n",
      "tacos\n"
     ]
    }
   ],
   "source": [
    "for each_item in favorite_food:\n",
    "    print(each_item)"
   ]
  },
  {
   "cell_type": "code",
   "execution_count": 25,
   "metadata": {},
   "outputs": [
    {
     "name": "stdout",
     "output_type": "stream",
     "text": [
      "pizza\n",
      "pasta\n",
      "calzone\n",
      "tacos\n"
     ]
    }
   ],
   "source": [
    "# for i in range(0, len(some_string)):\n",
    "#     print(some_string[i])\n",
    "\n",
    "for i in range(0, len(favorite_food)):\n",
    "    # print(f\"{some_string[i]} is not a letter.!\")\n",
    "    # print(f\"{favorite_food[i]} is my favorite food\")\n",
    "    print(f\"{favorite_food[i]}\")"
   ]
  },
  {
   "cell_type": "code",
   "execution_count": 26,
   "metadata": {},
   "outputs": [
    {
     "name": "stdout",
     "output_type": "stream",
     "text": [
      "h1ke is not a word\n"
     ]
    }
   ],
   "source": [
    "list_of_words: list[str] = user_response.split()\n",
    "\n",
    "for each_word in list_of_words:\n",
    "    if not each_word.isalpha():\n",
    "        print(f\"{each_word} is not a word\")"
   ]
  },
  {
   "cell_type": "code",
   "execution_count": 28,
   "metadata": {},
   "outputs": [
    {
     "data": {
      "text/plain": [
       "['I', 'like', 'to', 'h1ke']"
      ]
     },
     "execution_count": 28,
     "metadata": {},
     "output_type": "execute_result"
    }
   ],
   "source": [
    "user_response: str = \"I like to h1ke\"\n",
    "user_response.split()"
   ]
  },
  {
   "cell_type": "code",
   "execution_count": 31,
   "metadata": {},
   "outputs": [
    {
     "name": "stdout",
     "output_type": "stream",
     "text": [
      "4th word, \n",
      " \"h1ke\" is not a word\n"
     ]
    }
   ],
   "source": [
    "for i in range(0, len(list_of_words)):\n",
    "    if not list_of_words[i].isalpha():\n",
    "        print(f\"{i+1}th word, \\n \\\"{list_of_words[i]}\\\" is not a word\")"
   ]
  },
  {
   "cell_type": "code",
   "execution_count": 38,
   "metadata": {},
   "outputs": [
    {
     "name": "stdout",
     "output_type": "stream",
     "text": [
      " some thing here \n",
      "some thing here\n",
      "some thing here\n"
     ]
    }
   ],
   "source": [
    "\"tim, tim@gmail.com, 1234\".split(\",\")\n",
    "print(\" some thing here \")\n",
    "print(\" some thing here \".strip())\n",
    "print(\"__some thing here___\".strip('_'))"
   ]
  },
  {
   "cell_type": "markdown",
   "metadata": {},
   "source": [
    "## Going over stored items"
   ]
  },
  {
   "cell_type": "code",
   "execution_count": 48,
   "metadata": {},
   "outputs": [
    {
     "ename": "IndexError",
     "evalue": "list index out of range",
     "output_type": "error",
     "traceback": [
      "\u001b[0;31m---------------------------------------------------------------------------\u001b[0m",
      "\u001b[0;31mIndexError\u001b[0m                                Traceback (most recent call last)",
      "Cell \u001b[0;32mIn[48], line 2\u001b[0m\n\u001b[1;32m      1\u001b[0m some_list: \u001b[38;5;28mlist\u001b[39m[\u001b[38;5;28mstr\u001b[39m] \u001b[38;5;241m=\u001b[39m [\u001b[38;5;124m\"\u001b[39m\u001b[38;5;124mitem\u001b[39m\u001b[38;5;124m\"\u001b[39m, \u001b[38;5;124m\"\u001b[39m\u001b[38;5;124msecond_item\u001b[39m\u001b[38;5;124m\"\u001b[39m, \u001b[38;5;124m\"\u001b[39m\u001b[38;5;124msomething_else\u001b[39m\u001b[38;5;124m\"\u001b[39m, \u001b[38;5;241m12\u001b[39m, \u001b[38;5;124m\"\u001b[39m\u001b[38;5;124mother\u001b[39m\u001b[38;5;124m\"\u001b[39m]\n\u001b[0;32m----> 2\u001b[0m \u001b[43msome_list\u001b[49m\u001b[43m[\u001b[49m\u001b[38;5;28;43mlen\u001b[39;49m\u001b[43m(\u001b[49m\u001b[43msome_list\u001b[49m\u001b[43m)\u001b[49m\u001b[43m]\u001b[49m\n\u001b[1;32m      3\u001b[0m some_list[\u001b[38;5;241m-\u001b[39m\u001b[38;5;241m1\u001b[39m]\n",
      "\u001b[0;31mIndexError\u001b[0m: list index out of range"
     ]
    }
   ],
   "source": [
    "\n",
    "some_list: list[str] = [\"item\", \"second_item\", \"something_else\", 12, \"other\"]\n",
    "some_list[len(some_list)-1]\n",
    "some_list[-1]"
   ]
  },
  {
   "cell_type": "code",
   "execution_count": 49,
   "metadata": {},
   "outputs": [
    {
     "data": {
      "text/plain": [
       "['item', 'second_item', 'something_else', 12, 'other', 'food']"
      ]
     },
     "execution_count": 49,
     "metadata": {},
     "output_type": "execute_result"
    }
   ],
   "source": [
    "some_list.append(\"food\")\n",
    "some_list"
   ]
  }
 ],
 "metadata": {
  "kernelspec": {
   "display_name": "Python 3",
   "language": "python",
   "name": "python3"
  },
  "language_info": {
   "codemirror_mode": {
    "name": "ipython",
    "version": 3
   },
   "file_extension": ".py",
   "mimetype": "text/x-python",
   "name": "python",
   "nbconvert_exporter": "python",
   "pygments_lexer": "ipython3",
   "version": "3.11.9"
  }
 },
 "nbformat": 4,
 "nbformat_minor": 2
}
